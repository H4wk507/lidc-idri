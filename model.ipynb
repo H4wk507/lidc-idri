{
 "cells": [
  {
   "cell_type": "markdown",
   "metadata": {},
   "source": [
    "## Wprowadzenie\n"
   ]
  },
  {
   "cell_type": "markdown",
   "metadata": {},
   "source": [
    "## Preprocessing\n"
   ]
  },
  {
   "cell_type": "code",
   "execution_count": 1,
   "metadata": {},
   "outputs": [
    {
     "name": "stdout",
     "output_type": "stream",
     "text": [
      "3000 3000\n"
     ]
    }
   ],
   "source": [
    "from glob import glob\n",
    "import os\n",
    "import torch\n",
    "\n",
    "\n",
    "n_images = 3000\n",
    "imgs = sorted(glob(os.path.join(\"data\", \"imgs\", \"*.png\")))[:n_images]\n",
    "masks = sorted(glob(os.path.join(\"data\", \"masks\", \"*.png\")))[:n_images]\n",
    "\n",
    "TRAIN_RATIO = 0.7\n",
    "VAL_RATIO = 0.2\n",
    "\n",
    "train_size = int(TRAIN_RATIO * n_images)\n",
    "val_size = int(VAL_RATIO * n_images)\n",
    "test_size = n_images - train_size - val_size\n",
    "train_size += n_images - (train_size + val_size + test_size)\n",
    "\n",
    "files = [{\"img\": img, \"mask\": mask} for img, mask in zip(imgs, masks)]\n",
    "print(len(imgs), len(masks))\n",
    "train_files, val_files, test_files = torch.utils.data.random_split(\n",
    "    files,\n",
    "    [train_size, val_size, test_size],\n",
    ")"
   ]
  },
  {
   "cell_type": "markdown",
   "metadata": {},
   "source": [
    "## Augmentacja danych\n"
   ]
  },
  {
   "cell_type": "code",
   "execution_count": 2,
   "metadata": {},
   "outputs": [],
   "source": [
    "from monai.transforms import (\n",
    "    LoadImaged,\n",
    "    Compose,\n",
    "    RandRotate90d,\n",
    "    ScaleIntensityd,\n",
    "    Resized,\n",
    ")\n",
    "from monai.data import PILReader\n",
    "\n",
    "train_transform = Compose(\n",
    "    [\n",
    "        LoadImaged(\n",
    "            keys=[\"img\", \"mask\"],\n",
    "            image_only=True,\n",
    "            ensure_channel_first=True,\n",
    "            reader=PILReader(\n",
    "                converter=lambda image: image.convert(\"L\"), reverse_indexing=False\n",
    "            ),\n",
    "            dtype=torch.float,\n",
    "        ),\n",
    "        ScaleIntensityd(keys=[\"img\", \"mask\"], minv=0, maxv=1),\n",
    "        RandRotate90d(keys=[\"img\", \"mask\"], prob=0.5, spatial_axes=(0, 1)),\n",
    "        Resized(keys=[\"img\", \"mask\"], spatial_size=(512, 512)),\n",
    "    ]\n",
    ")\n",
    "\n",
    "val_transform = Compose(\n",
    "    [\n",
    "        LoadImaged(\n",
    "            keys=[\"img\", \"mask\"],\n",
    "            image_only=True,\n",
    "            ensure_channel_first=True,\n",
    "            reader=PILReader(\n",
    "                converter=lambda image: image.convert(\"L\"), reverse_indexing=False\n",
    "            ),\n",
    "            dtype=torch.float,\n",
    "        ),\n",
    "        ScaleIntensityd(keys=[\"img\", \"mask\"], minv=0, maxv=1),\n",
    "        Resized(keys=[\"img\", \"mask\"], spatial_size=(512, 512)),\n",
    "    ]\n",
    ")"
   ]
  },
  {
   "cell_type": "markdown",
   "metadata": {},
   "source": [
    "## Stworzenie datasetów\n"
   ]
  },
  {
   "cell_type": "code",
   "execution_count": 3,
   "metadata": {},
   "outputs": [],
   "source": [
    "\n",
    "import monai\n",
    "\n",
    "train_dataset = monai.data.Dataset(data=train_files, transform=train_transform)\n",
    "val_dataset = monai.data.Dataset(data=val_files, transform=val_transform)\n",
    "test_dataset = monai.data.Dataset(data=test_files, transform=val_transform)"
   ]
  },
  {
   "cell_type": "code",
   "execution_count": 4,
   "metadata": {},
   "outputs": [],
   "source": [
    "import gc\n",
    "\n",
    "gc.collect()\n",
    "with torch.no_grad():\n",
    "    torch.cuda.empty_cache()"
   ]
  },
  {
   "cell_type": "markdown",
   "metadata": {},
   "source": [
    "## Parametery\n"
   ]
  },
  {
   "cell_type": "code",
   "execution_count": 5,
   "metadata": {},
   "outputs": [],
   "source": [
    "from monai.networks.nets import UNet\n",
    "from monai.losses import DiceLoss\n",
    "\n",
    "# from unet import UNet\n",
    "from resunet import ResUNet\n",
    "\n",
    "torch.backends.cudnn.benchmark = True\n",
    "\n",
    "device = torch.device(\"cuda:0\" if torch.cuda.is_available() else \"cpu\")\n",
    "lr = 0.001\n",
    "nepochs = 400\n",
    "bs = 64\n",
    "\n",
    "model = UNet(\n",
    "    spatial_dims=2,\n",
    "    in_channels=1,\n",
    "    out_channels=1,\n",
    "    channels=(16, 32, 64, 128, 256),\n",
    "    strides=(2, 2, 2, 2),\n",
    "    num_res_units=2,\n",
    ").to(device)\n",
    "\n",
    "\n",
    "optimizer = torch.optim.Adam(model.parameters(), lr=lr)\n",
    "criterion = DiceLoss(sigmoid=True)"
   ]
  },
  {
   "cell_type": "markdown",
   "metadata": {},
   "source": [
    "## Dataloadery\n"
   ]
  },
  {
   "cell_type": "code",
   "execution_count": 6,
   "metadata": {},
   "outputs": [],
   "source": [
    "import monai\n",
    "\n",
    "train_dataloader = monai.data.DataLoader(\n",
    "    train_dataset, batch_size=bs, shuffle=True, pin_memory=True, num_workers=8\n",
    ")\n",
    "val_dataloader = monai.data.DataLoader(\n",
    "    val_dataset, batch_size=bs, shuffle=False, pin_memory=True, num_workers=8\n",
    ")\n",
    "test_dataloader = monai.data.DataLoader(\n",
    "    test_dataset, batch_size=bs, shuffle=False, pin_memory=True, num_workers=8\n",
    ")"
   ]
  },
  {
   "cell_type": "markdown",
   "metadata": {},
   "source": [
    "## Trening\n"
   ]
  },
  {
   "cell_type": "code",
   "execution_count": 7,
   "metadata": {},
   "outputs": [
    {
     "name": "stdout",
     "output_type": "stream",
     "text": [
      "Initial GPU Memory: 0.01GB / 0.02GB\n"
     ]
    },
    {
     "name": "stderr",
     "output_type": "stream",
     "text": [
      "  0%|          | 0/400 [00:00<?, ?it/s]"
     ]
    },
    {
     "name": "stdout",
     "output_type": "stream",
     "text": [
      "Epoch 1 - GPU Memory: 0.01GB / 0.02GB\n"
     ]
    },
    {
     "name": "stderr",
     "output_type": "stream",
     "text": [
      "Epoch 10/400, iteration 10/10, loss: 0.9917632937431335:   2%|▎         | 10/400 [01:16<48:08,  7.41s/it]"
     ]
    },
    {
     "name": "stdout",
     "output_type": "stream",
     "text": [
      "Epoch 11 - GPU Memory: 0.10GB / 5.39GB\n"
     ]
    },
    {
     "name": "stderr",
     "output_type": "stream",
     "text": [
      "Epoch 20/400, iteration 10/10, loss: 0.9665839672088623:   5%|▌         | 20/400 [02:27<46:46,  7.38s/it]"
     ]
    },
    {
     "name": "stdout",
     "output_type": "stream",
     "text": [
      "Epoch 21 - GPU Memory: 0.10GB / 5.39GB\n"
     ]
    },
    {
     "name": "stderr",
     "output_type": "stream",
     "text": [
      "Epoch 30/400, iteration 10/10, loss: 0.3295360207557678:   8%|▊         | 30/400 [03:37<43:56,  7.13s/it] "
     ]
    },
    {
     "name": "stdout",
     "output_type": "stream",
     "text": [
      "Epoch 31 - GPU Memory: 0.10GB / 5.39GB\n"
     ]
    },
    {
     "name": "stderr",
     "output_type": "stream",
     "text": [
      "Epoch 40/400, iteration 10/10, loss: 0.3280673027038574:  10%|█         | 40/400 [04:45<42:50,  7.14s/it] "
     ]
    },
    {
     "name": "stdout",
     "output_type": "stream",
     "text": [
      "Epoch 41 - GPU Memory: 0.10GB / 5.39GB\n"
     ]
    },
    {
     "name": "stderr",
     "output_type": "stream",
     "text": [
      "Epoch 50/400, iteration 10/10, loss: 0.3127409815788269:  12%|█▎        | 50/400 [05:55<42:56,  7.36s/it] "
     ]
    },
    {
     "name": "stdout",
     "output_type": "stream",
     "text": [
      "Epoch 51 - GPU Memory: 0.10GB / 5.39GB\n"
     ]
    },
    {
     "name": "stderr",
     "output_type": "stream",
     "text": [
      "Epoch 60/400, iteration 10/10, loss: 0.29067230224609375:  15%|█▌        | 60/400 [07:05<41:17,  7.29s/it]"
     ]
    },
    {
     "name": "stdout",
     "output_type": "stream",
     "text": [
      "Epoch 61 - GPU Memory: 0.10GB / 5.39GB\n"
     ]
    },
    {
     "name": "stderr",
     "output_type": "stream",
     "text": [
      "Epoch 70/400, iteration 10/10, loss: 0.3004429042339325:  18%|█▊        | 70/400 [08:16<39:40,  7.21s/it] "
     ]
    },
    {
     "name": "stdout",
     "output_type": "stream",
     "text": [
      "Epoch 71 - GPU Memory: 0.10GB / 5.39GB\n"
     ]
    },
    {
     "name": "stderr",
     "output_type": "stream",
     "text": [
      "Epoch 80/400, iteration 10/10, loss: 0.2788159251213074:  20%|██        | 80/400 [09:27<39:07,  7.34s/it] "
     ]
    },
    {
     "name": "stdout",
     "output_type": "stream",
     "text": [
      "Epoch 81 - GPU Memory: 0.10GB / 5.39GB\n"
     ]
    },
    {
     "name": "stderr",
     "output_type": "stream",
     "text": [
      "Epoch 90/400, iteration 10/10, loss: 0.29354584217071533:  22%|██▎       | 90/400 [10:37<37:45,  7.31s/it]"
     ]
    },
    {
     "name": "stdout",
     "output_type": "stream",
     "text": [
      "Epoch 91 - GPU Memory: 0.10GB / 5.39GB\n"
     ]
    },
    {
     "name": "stderr",
     "output_type": "stream",
     "text": [
      "Epoch 100/400, iteration 10/10, loss: 0.2961609959602356:  25%|██▌       | 100/400 [11:49<37:00,  7.40s/it]"
     ]
    },
    {
     "name": "stdout",
     "output_type": "stream",
     "text": [
      "Epoch 101 - GPU Memory: 0.10GB / 5.39GB\n"
     ]
    },
    {
     "name": "stderr",
     "output_type": "stream",
     "text": [
      "Epoch 110/400, iteration 10/10, loss: 0.2789965867996216:  28%|██▊       | 110/400 [13:00<35:20,  7.31s/it] "
     ]
    },
    {
     "name": "stdout",
     "output_type": "stream",
     "text": [
      "Epoch 111 - GPU Memory: 0.10GB / 5.39GB\n"
     ]
    },
    {
     "name": "stderr",
     "output_type": "stream",
     "text": [
      "Epoch 120/400, iteration 10/10, loss: 0.2755992114543915:  30%|███       | 120/400 [14:11<34:14,  7.34s/it] "
     ]
    },
    {
     "name": "stdout",
     "output_type": "stream",
     "text": [
      "Epoch 121 - GPU Memory: 0.10GB / 5.39GB\n"
     ]
    },
    {
     "name": "stderr",
     "output_type": "stream",
     "text": [
      "Epoch 130/400, iteration 10/10, loss: 0.29696163535118103:  32%|███▎      | 130/400 [15:22<33:11,  7.37s/it]"
     ]
    },
    {
     "name": "stdout",
     "output_type": "stream",
     "text": [
      "Epoch 131 - GPU Memory: 0.10GB / 5.39GB\n"
     ]
    },
    {
     "name": "stderr",
     "output_type": "stream",
     "text": [
      "Epoch 140/400, iteration 10/10, loss: 0.2786067724227905:  35%|███▌      | 140/400 [16:33<31:41,  7.31s/it] "
     ]
    },
    {
     "name": "stdout",
     "output_type": "stream",
     "text": [
      "Epoch 141 - GPU Memory: 0.10GB / 5.39GB\n"
     ]
    },
    {
     "name": "stderr",
     "output_type": "stream",
     "text": [
      "Epoch 150/400, iteration 10/10, loss: 0.2712675929069519:  38%|███▊      | 150/400 [17:44<30:12,  7.25s/it] "
     ]
    },
    {
     "name": "stdout",
     "output_type": "stream",
     "text": [
      "Epoch 151 - GPU Memory: 0.10GB / 5.39GB\n"
     ]
    },
    {
     "name": "stderr",
     "output_type": "stream",
     "text": [
      "Epoch 160/400, iteration 10/10, loss: 0.27856481075286865:  40%|████      | 160/400 [18:54<29:19,  7.33s/it]"
     ]
    },
    {
     "name": "stdout",
     "output_type": "stream",
     "text": [
      "Epoch 161 - GPU Memory: 0.10GB / 5.39GB\n"
     ]
    },
    {
     "name": "stderr",
     "output_type": "stream",
     "text": [
      "Epoch 170/400, iteration 10/10, loss: 0.27920210361480713:  42%|████▎     | 170/400 [20:04<27:45,  7.24s/it]"
     ]
    },
    {
     "name": "stdout",
     "output_type": "stream",
     "text": [
      "Epoch 171 - GPU Memory: 0.10GB / 5.39GB\n"
     ]
    },
    {
     "name": "stderr",
     "output_type": "stream",
     "text": [
      "Epoch 173/400, iteration 1/33, loss: 0.20179976522922516:  43%|████▎     | 172/400 [20:21<26:58,  7.10s/it] \n"
     ]
    },
    {
     "ename": "KeyboardInterrupt",
     "evalue": "",
     "output_type": "error",
     "traceback": [
      "\u001b[31m---------------------------------------------------------------------------\u001b[39m",
      "\u001b[31mKeyboardInterrupt\u001b[39m                         Traceback (most recent call last)",
      "\u001b[36mCell\u001b[39m\u001b[36m \u001b[39m\u001b[32mIn[7]\u001b[39m\u001b[32m, line 35\u001b[39m\n\u001b[32m     33\u001b[39m scaler.unscale_(optimizer)\n\u001b[32m     34\u001b[39m torch.nn.utils.clip_grad_norm_(model.parameters(), max_norm=\u001b[32m1.0\u001b[39m)\n\u001b[32m---> \u001b[39m\u001b[32m35\u001b[39m \u001b[43mscaler\u001b[49m\u001b[43m.\u001b[49m\u001b[43mstep\u001b[49m\u001b[43m(\u001b[49m\u001b[43moptimizer\u001b[49m\u001b[43m)\u001b[49m\n\u001b[32m     36\u001b[39m scaler.update()\n\u001b[32m     37\u001b[39m curr_loss = loss.item()\n",
      "\u001b[36mFile \u001b[39m\u001b[32m/venv/main/lib/python3.12/site-packages/torch/amp/grad_scaler.py:457\u001b[39m, in \u001b[36mGradScaler.step\u001b[39m\u001b[34m(self, optimizer, *args, **kwargs)\u001b[39m\n\u001b[32m    451\u001b[39m     \u001b[38;5;28mself\u001b[39m.unscale_(optimizer)\n\u001b[32m    453\u001b[39m \u001b[38;5;28;01massert\u001b[39;00m (\n\u001b[32m    454\u001b[39m     \u001b[38;5;28mlen\u001b[39m(optimizer_state[\u001b[33m\"\u001b[39m\u001b[33mfound_inf_per_device\u001b[39m\u001b[33m\"\u001b[39m]) > \u001b[32m0\u001b[39m\n\u001b[32m    455\u001b[39m ), \u001b[33m\"\u001b[39m\u001b[33mNo inf checks were recorded for this optimizer.\u001b[39m\u001b[33m\"\u001b[39m\n\u001b[32m--> \u001b[39m\u001b[32m457\u001b[39m retval = \u001b[38;5;28;43mself\u001b[39;49m\u001b[43m.\u001b[49m\u001b[43m_maybe_opt_step\u001b[49m\u001b[43m(\u001b[49m\u001b[43moptimizer\u001b[49m\u001b[43m,\u001b[49m\u001b[43m \u001b[49m\u001b[43moptimizer_state\u001b[49m\u001b[43m,\u001b[49m\u001b[43m \u001b[49m\u001b[43m*\u001b[49m\u001b[43margs\u001b[49m\u001b[43m,\u001b[49m\u001b[43m \u001b[49m\u001b[43m*\u001b[49m\u001b[43m*\u001b[49m\u001b[43mkwargs\u001b[49m\u001b[43m)\u001b[49m\n\u001b[32m    459\u001b[39m optimizer_state[\u001b[33m\"\u001b[39m\u001b[33mstage\u001b[39m\u001b[33m\"\u001b[39m] = OptState.STEPPED\n\u001b[32m    461\u001b[39m \u001b[38;5;28;01mreturn\u001b[39;00m retval\n",
      "\u001b[36mFile \u001b[39m\u001b[32m/venv/main/lib/python3.12/site-packages/torch/amp/grad_scaler.py:351\u001b[39m, in \u001b[36mGradScaler._maybe_opt_step\u001b[39m\u001b[34m(self, optimizer, optimizer_state, *args, **kwargs)\u001b[39m\n\u001b[32m    343\u001b[39m \u001b[38;5;28;01mdef\u001b[39;00m\u001b[38;5;250m \u001b[39m\u001b[34m_maybe_opt_step\u001b[39m(\n\u001b[32m    344\u001b[39m     \u001b[38;5;28mself\u001b[39m,\n\u001b[32m    345\u001b[39m     optimizer: torch.optim.Optimizer,\n\u001b[32m   (...)\u001b[39m\u001b[32m    348\u001b[39m     **kwargs: Any,\n\u001b[32m    349\u001b[39m ) -> Optional[\u001b[38;5;28mfloat\u001b[39m]:\n\u001b[32m    350\u001b[39m     retval: Optional[\u001b[38;5;28mfloat\u001b[39m] = \u001b[38;5;28;01mNone\u001b[39;00m\n\u001b[32m--> \u001b[39m\u001b[32m351\u001b[39m     \u001b[38;5;28;01mif\u001b[39;00m \u001b[38;5;129;01mnot\u001b[39;00m \u001b[38;5;28;43msum\u001b[39;49m\u001b[43m(\u001b[49m\u001b[43mv\u001b[49m\u001b[43m.\u001b[49m\u001b[43mitem\u001b[49m\u001b[43m(\u001b[49m\u001b[43m)\u001b[49m\u001b[43m \u001b[49m\u001b[38;5;28;43;01mfor\u001b[39;49;00m\u001b[43m \u001b[49m\u001b[43mv\u001b[49m\u001b[43m \u001b[49m\u001b[38;5;129;43;01min\u001b[39;49;00m\u001b[43m \u001b[49m\u001b[43moptimizer_state\u001b[49m\u001b[43m[\u001b[49m\u001b[33;43m\"\u001b[39;49m\u001b[33;43mfound_inf_per_device\u001b[39;49m\u001b[33;43m\"\u001b[39;49m\u001b[43m]\u001b[49m\u001b[43m.\u001b[49m\u001b[43mvalues\u001b[49m\u001b[43m(\u001b[49m\u001b[43m)\u001b[49m\u001b[43m)\u001b[49m:\n\u001b[32m    352\u001b[39m         retval = optimizer.step(*args, **kwargs)\n\u001b[32m    353\u001b[39m     \u001b[38;5;28;01mreturn\u001b[39;00m retval\n",
      "\u001b[36mFile \u001b[39m\u001b[32m/venv/main/lib/python3.12/site-packages/torch/amp/grad_scaler.py:351\u001b[39m, in \u001b[36m<genexpr>\u001b[39m\u001b[34m(.0)\u001b[39m\n\u001b[32m    343\u001b[39m \u001b[38;5;28;01mdef\u001b[39;00m\u001b[38;5;250m \u001b[39m\u001b[34m_maybe_opt_step\u001b[39m(\n\u001b[32m    344\u001b[39m     \u001b[38;5;28mself\u001b[39m,\n\u001b[32m    345\u001b[39m     optimizer: torch.optim.Optimizer,\n\u001b[32m   (...)\u001b[39m\u001b[32m    348\u001b[39m     **kwargs: Any,\n\u001b[32m    349\u001b[39m ) -> Optional[\u001b[38;5;28mfloat\u001b[39m]:\n\u001b[32m    350\u001b[39m     retval: Optional[\u001b[38;5;28mfloat\u001b[39m] = \u001b[38;5;28;01mNone\u001b[39;00m\n\u001b[32m--> \u001b[39m\u001b[32m351\u001b[39m     \u001b[38;5;28;01mif\u001b[39;00m \u001b[38;5;129;01mnot\u001b[39;00m \u001b[38;5;28msum\u001b[39m(\u001b[43mv\u001b[49m\u001b[43m.\u001b[49m\u001b[43mitem\u001b[49m\u001b[43m(\u001b[49m\u001b[43m)\u001b[49m \u001b[38;5;28;01mfor\u001b[39;00m v \u001b[38;5;129;01min\u001b[39;00m optimizer_state[\u001b[33m\"\u001b[39m\u001b[33mfound_inf_per_device\u001b[39m\u001b[33m\"\u001b[39m].values()):\n\u001b[32m    352\u001b[39m         retval = optimizer.step(*args, **kwargs)\n\u001b[32m    353\u001b[39m     \u001b[38;5;28;01mreturn\u001b[39;00m retval\n",
      "\u001b[31mKeyboardInterrupt\u001b[39m: "
     ]
    }
   ],
   "source": [
    "import torch\n",
    "from tqdm import trange\n",
    "\n",
    "import matplotlib.pyplot as plt\n",
    "from pathlib import Path\n",
    "\n",
    "train_losses = []\n",
    "val_losses = []\n",
    "val_interval = 2\n",
    "save_interval = 10\n",
    "save_dir = \"model\"\n",
    "Path(save_dir).mkdir(exist_ok=True)\n",
    "\n",
    "scaler = torch.GradScaler(\"cuda\")\n",
    "scheduler = torch.optim.lr_scheduler.ReduceLROnPlateau(\n",
    "    optimizer, mode='min', factor=0.5, patience=15, min_lr=1e-6\n",
    ")\n",
    "\n",
    "print(f\"Initial GPU Memory: {torch.cuda.memory_allocated()/1024**3:.2f}GB / {torch.cuda.memory_reserved()/1024**3:.2f}GB\")\n",
    "\n",
    "for epoch in (pbar := trange(nepochs)):\n",
    "    model.train()\n",
    "    train_loss = 0.0\n",
    "    if epoch % 10 == 0:\n",
    "        print(f\"Epoch {epoch+1} - GPU Memory: {torch.cuda.memory_allocated()/1024**3:.2f}GB / {torch.cuda.memory_reserved()/1024**3:.2f}GB\")\n",
    "    for i, batch_data in enumerate(train_dataloader):\n",
    "        img, mask = batch_data[\"img\"].to(device), batch_data[\"mask\"].to(device)\n",
    "        optimizer.zero_grad(set_to_none=True)\n",
    "        with torch.autocast(\"cuda\"):\n",
    "            output = model(img)\n",
    "            loss = criterion(output, mask)\n",
    "        scaler.scale(loss).backward()\n",
    "        scaler.unscale_(optimizer)\n",
    "        torch.nn.utils.clip_grad_norm_(model.parameters(), max_norm=1.0)\n",
    "        scaler.step(optimizer)\n",
    "        scaler.update()\n",
    "        curr_loss = loss.item()\n",
    "        train_loss += curr_loss\n",
    "        pbar.set_description(\n",
    "            f\"Epoch {epoch+1}/{nepochs}, iteration {i+1}/{len(train_dataloader)}, loss: {curr_loss}\"\n",
    "        )\n",
    "    train_losses.append(train_loss / len(train_dataloader))\n",
    "    \n",
    "\n",
    "    if (epoch + 1) % val_interval == 0:\n",
    "        model.eval()\n",
    "        with torch.no_grad():\n",
    "            val_loss = 0.0\n",
    "            for i, batch_data in enumerate(val_dataloader):\n",
    "                img, mask = batch_data[\"img\"].to(device), batch_data[\"mask\"].to(device)\n",
    "                output = model(img)\n",
    "                loss = criterion(output, mask)\n",
    "                curr_loss = loss.item()\n",
    "                val_loss += curr_loss\n",
    "                pbar.set_description(\n",
    "                    f\"Epoch {epoch+1}/{nepochs}, iteration {i+1}/{len(val_dataloader)}, loss: {curr_loss}\"\n",
    "                )\n",
    "            val_loss_mean = val_loss / len(val_dataloader)\n",
    "            val_losses.append(val_loss_mean)\n",
    "            scheduler.step(val_loss_mean)\n",
    "    if (epoch + 1) % save_interval == 0:\n",
    "        torch.save(model.state_dict(), os.path.join(save_dir, f\"model_{epoch+1}.pth\"))\n"
   ]
  },
  {
   "cell_type": "code",
   "execution_count": 16,
   "metadata": {},
   "outputs": [
    {
     "name": "stdout",
     "output_type": "stream",
     "text": [
      "[0.99556711 0.99531293 0.9946738  0.99321891 0.99100792 0.98796493\n",
      " 0.98367767 0.97897974 0.97182116 0.96349177 0.95307976 0.71740304\n",
      " 0.459577   0.36898557 0.34133479 0.32735464 0.33179884 0.31844151\n",
      " 0.31282169 0.29815374 0.29615709 0.29639757 0.2928995  0.2806009\n",
      " 0.2784954  0.27863702 0.27648825 0.27795788 0.27287309 0.26600366\n",
      " 0.2705759  0.27200665 0.26211634 0.25893761 0.256692   0.25684141\n",
      " 0.26004679 0.25407833 0.2552964  0.24668234 0.25513871 0.24796171\n",
      " 0.24516112 0.2473149  0.24411647 0.24768464 0.25214846 0.23992105\n",
      " 0.24917571 0.25158523 0.24595519 0.23583806 0.24361341 0.24492862\n",
      " 0.24685599 0.23894587 0.24049236 0.24221278 0.24581091 0.2472468\n",
      " 0.24538449 0.24996246 0.24490336 0.24272051 0.24309777 0.23920416\n",
      " 0.23909928 0.24324145 0.23250579 0.2405327  0.23668899 0.23809927\n",
      " 0.23470739 0.23553924 0.23427282 0.23439849 0.23755342 0.23720545\n",
      " 0.24269091 0.23957441 0.23561122 0.23505291 0.23720435 0.23965968\n",
      " 0.24039682 0.2348036 ]\n"
     ]
    }
   ],
   "source": [
    "import numpy as np\n",
    "print(np.array(val_losses))"
   ]
  },
  {
   "cell_type": "code",
   "execution_count": 17,
   "metadata": {},
   "outputs": [
    {
     "name": "stdout",
     "output_type": "stream",
     "text": [
      "[0.99646238 0.99596975 0.99580747 0.99567786 0.99550748 0.99522394\n",
      " 0.9948104  0.99413939 0.99324888 0.99222206 0.9910262  0.98974757\n",
      " 0.98795625 0.98593292 0.98384586 0.98140371 0.97861385 0.97533923\n",
      " 0.97203023 0.96787535 0.96333904 0.95883283 0.95289987 0.86900385\n",
      " 0.64573885 0.53355886 0.44744455 0.40476315 0.38454263 0.36465656\n",
      " 0.35703715 0.34460855 0.32911774 0.3277789  0.32303975 0.31704025\n",
      " 0.3046585  0.29907259 0.30230189 0.29863593 0.29169635 0.29244346\n",
      " 0.28418921 0.28065712 0.27799858 0.28523498 0.27554481 0.26905664\n",
      " 0.26864036 0.26891293 0.27059054 0.26636637 0.26664638 0.26124396\n",
      " 0.25837665 0.25700003 0.25549685 0.25420253 0.25927375 0.25675369\n",
      " 0.24675959 0.24670596 0.25175061 0.24598262 0.25031566 0.24887715\n",
      " 0.24281917 0.23744615 0.24604488 0.24203103 0.2408572  0.23863275\n",
      " 0.23800628 0.23372924 0.2364384  0.23419975 0.23819104 0.23405966\n",
      " 0.23175224 0.22239551 0.22272089 0.22395412 0.22093232 0.22902798\n",
      " 0.22643826 0.21846069 0.22132756 0.22424601 0.21929836 0.22046871\n",
      " 0.22421565 0.21835302 0.22477374 0.22286872 0.23574142 0.22124911\n",
      " 0.2172391  0.21518405 0.21617603 0.22096132 0.21575702 0.2143306\n",
      " 0.21131297 0.21440395 0.21209958 0.20876817 0.21422597 0.21248419\n",
      " 0.21216719 0.20875858 0.21130711 0.21036043 0.21084101 0.2117911\n",
      " 0.21366515 0.20753471 0.20663903 0.20636415 0.20492581 0.20349586\n",
      " 0.20101355 0.20271381 0.20327717 0.20323668 0.20817505 0.20529004\n",
      " 0.20259438 0.20388493 0.20610239 0.20555396 0.20281485 0.20811378\n",
      " 0.20852383 0.20380947 0.20191566 0.20488316 0.19779998 0.19469232\n",
      " 0.19283128 0.18992755 0.19236889 0.19232049 0.18895598 0.18885754\n",
      " 0.18997762 0.18399851 0.18758731 0.18728733 0.18542758 0.18338939\n",
      " 0.1842779  0.18561577 0.18622538 0.18557497 0.18292622 0.18426715\n",
      " 0.18300714 0.18380359 0.18391439 0.1841657  0.18372573 0.18183665\n",
      " 0.18256052 0.18214288 0.1836662  0.17918697 0.18042171 0.18041186\n",
      " 0.1816445  0.17690983 0.17855902 0.17591662]\n"
     ]
    }
   ],
   "source": [
    "print(np.array(train_losses))"
   ]
  },
  {
   "cell_type": "markdown",
   "metadata": {},
   "source": [
    "## Wykresy strat\n"
   ]
  },
  {
   "cell_type": "code",
   "execution_count": 18,
   "metadata": {},
   "outputs": [
    {
     "data": {
      "image/png": "[encoded data removed]",
      "text/plain": [
       "<Figure size 640x480 with 1 Axes>"
      ]
     },
     "metadata": {},
     "output_type": "display_data"
    },
    {
     "data": {
      "image/png": "[encoded data removed]",
      "text/plain": [
       "<Figure size 640x480 with 1 Axes>"
      ]
     },
     "metadata": {},
     "output_type": "display_data"
    }
   ],
   "source": [
    "import matplotlib.pyplot as plt\n",
    "\n",
    "plt.plot(train_losses, label=\"train\")\n",
    "plt.title(\"Train loss\")\n",
    "plt.ylabel(\"Loss\")\n",
    "plt.xlabel(\"Epoch\")\n",
    "plt.savefig(\"train_loss.png\")\n",
    "plt.show()\n",
    "plt.plot(val_losses, label=\"val\", color=\"orange\")\n",
    "plt.title(\"Validation loss\")\n",
    "plt.ylabel(\"Loss\")\n",
    "plt.xlabel(\"Epoch\")\n",
    "plt.savefig(\"val_loss.png\")\n",
    "plt.show()"
   ]
  },
  {
   "cell_type": "code",
   "execution_count": 19,
   "metadata": {},
   "outputs": [],
   "source": [
    "filename = \"./model/model_172.pth\"\n",
    "torch.save(model.state_dict(), filename)"
   ]
  },
  {
   "cell_type": "markdown",
   "metadata": {},
   "source": [
    "## Testowanie\n"
   ]
  },
  {
   "cell_type": "code",
   "execution_count": 20,
   "metadata": {},
   "outputs": [
    {
     "data": {
      "text/plain": [
       "<All keys matched successfully>"
      ]
     },
     "execution_count": 20,
     "metadata": {},
     "output_type": "execute_result"
    }
   ],
   "source": [
    "import torch\n",
    "from monai.networks.nets import UNet\n",
    "\n",
    "device = torch.device(\"cuda:0\" if torch.cuda.is_available() else \"cpu\")\n",
    "\n",
    "# filename = \"./models/best-model/model-monai-400epoch-3000img-256x256.pth\"\n",
    "filename = \"./model/model_172.pth\"\n",
    "\n",
    "model = UNet(\n",
    "    spatial_dims=2,\n",
    "    in_channels=1,\n",
    "    out_channels=1,\n",
    "    channels=(16, 32, 64, 128, 256),\n",
    "    strides=(2, 2, 2, 2),\n",
    "    num_res_units=2,\n",
    ").to(device)\n",
    "\n",
    "model.load_state_dict(torch.load(filename))"
   ]
  },
  {
   "cell_type": "code",
   "execution_count": 21,
   "metadata": {},
   "outputs": [
    {
     "name": "stdout",
     "output_type": "stream",
     "text": [
      "Average iou: 0.68\n",
      "Average dice coefficient: 0.77\n",
      "Average recall: 0.80\n",
      "Average precision: 0.78\n"
     ]
    },
    {
     "data": {
      "image/png": "[encoded data removed]",
      "text/plain": [
       "<Figure size 640x480 with 1 Axes>"
      ]
     },
     "metadata": {},
     "output_type": "display_data"
    }
   ],
   "source": [
    "from monai.metrics import compute_iou, compute_dice\n",
    "import numpy as np\n",
    "\n",
    "from util import recall, precision\n",
    "\n",
    "dices = []\n",
    "ious = []\n",
    "recalls = []\n",
    "precisions = []\n",
    "\n",
    "model.eval()\n",
    "with torch.no_grad():\n",
    "    for i, batch_data in enumerate(test_dataloader):\n",
    "        img, mask = batch_data[\"img\"].to(device), batch_data[\"mask\"].to(device)\n",
    "        output = torch.sigmoid(model(img))\n",
    "        torch.where(\n",
    "            output > 0.5,\n",
    "            torch.tensor([1.0], device=device),\n",
    "            torch.tensor([0.0], device=device),\n",
    "            out=output,\n",
    "        )\n",
    "        torch.where(\n",
    "            mask > 0.0,\n",
    "            torch.tensor([1.0], device=device),\n",
    "            torch.tensor([0.0], device=device),\n",
    "            out=mask,\n",
    "        )\n",
    "        dice_coeff = compute_dice(output, mask, ignore_empty=False).mean(dim=0)\n",
    "        iou = compute_iou(output, mask, ignore_empty=False).mean(dim=0)\n",
    "        r = recall(mask, output).mean()\n",
    "        p = precision(mask, output).mean()\n",
    "        dices.append(dice_coeff.item())\n",
    "        ious.append(iou.item())\n",
    "        recalls.append(r.item())\n",
    "        precisions.append(p.item())\n",
    "print(f\"Average iou: {(sum(ious) / len(ious)):.2f}\")\n",
    "print(f\"Average dice coefficient: {(sum(dices) / len(dices)):.2f}\")\n",
    "print(f\"Average recall: {(sum(recalls) / len(recalls)):.2f}\")\n",
    "print(f\"Average precision: {(sum(precisions) / len(precisions)):.2f}\")\n",
    "plt.scatter(np.arange(len(dices)), dices, s=20, c=\"red\")\n",
    "plt.xlabel(\"Test batch\")\n",
    "plt.ylabel(\"Mean dice coefficient\")\n",
    "plt.title(\"Mean dice coefficient for each test batch\")\n",
    "plt.savefig(\"dice_metric.png\")"
   ]
  },
  {
   "cell_type": "code",
   "execution_count": null,
   "metadata": {},
   "outputs": [],
   "source": []
  }
 ],
 "metadata": {
  "kernelspec": {
   "display_name": "Python3 (ipykernel)",
   "language": "python",
   "name": "python3"
  },
  "language_info": {
   "codemirror_mode": {
    "name": "ipython",
    "version": 3
   },
   "file_extension": ".py",
   "mimetype": "text/x-python",
   "name": "python",
   "nbconvert_exporter": "python",
   "pygments_lexer": "ipython3",
   "version": "3.12.3"
  }
 },
 "nbformat": 4,
 "nbformat_minor": 4
}
