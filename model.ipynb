{
 "cells": [
  {
   "cell_type": "markdown",
   "metadata": {},
   "source": [
    "## Wprowadzenie\n"
   ]
  },
  {
   "cell_type": "markdown",
   "metadata": {},
   "source": [
    "## Preprocessing\n"
   ]
  },
  {
   "cell_type": "code",
   "execution_count": null,
   "metadata": {},
   "outputs": [],
   "source": [
    "from glob import glob\n",
    "import os\n",
    "import torch\n",
    "\n",
    "\n",
    "n_images = 3000\n",
    "imgs = sorted(glob(os.path.join(\"data\", \"imgs\", \"*.png\")))[:n_images]\n",
    "masks = sorted(glob(os.path.join(\"data\", \"masks\", \"*.png\")))[:n_images]\n",
    "\n",
    "TRAIN_RATIO = 0.7\n",
    "VAL_RATIO = 0.2\n",
    "\n",
    "train_size = int(TRAIN_RATIO * n_images)\n",
    "val_size = int(VAL_RATIO * n_images)\n",
    "test_size = n_images - train_size - val_size\n",
    "train_size += n_images - (train_size + val_size + test_size)\n",
    "\n",
    "files = [{\"img\": img, \"mask\": mask} for img, mask in zip(imgs, masks)]\n",
    "print(len(imgs), len(masks))\n",
    "train_files, val_files, test_files = torch.utils.data.random_split(\n",
    "    files,\n",
    "    [train_size, val_size, test_size],\n",
    ")"
   ]
  },
  {
   "cell_type": "markdown",
   "metadata": {},
   "source": [
    "## Augmentacja danych\n"
   ]
  },
  {
   "cell_type": "code",
   "execution_count": null,
   "metadata": {},
   "outputs": [],
   "source": [
    "from monai.transforms import (\n",
    "    LoadImaged,\n",
    "    Compose,\n",
    "    RandRotate90d,\n",
    "    ScaleIntensityd,\n",
    "    Resized,\n",
    ")\n",
    "from monai.data import PILReader\n",
    "\n",
    "train_transform = Compose(\n",
    "    [\n",
    "        LoadImaged(\n",
    "            keys=[\"img\", \"mask\"],\n",
    "            image_only=True,\n",
    "            ensure_channel_first=True,\n",
    "            reader=PILReader(\n",
    "                converter=lambda image: image.convert(\"L\"), reverse_indexing=False\n",
    "            ),\n",
    "            dtype=torch.float,\n",
    "        ),\n",
    "        ScaleIntensityd(keys=[\"img\", \"mask\"], minv=0, maxv=1),\n",
    "        RandRotate90d(keys=[\"img\", \"mask\"], prob=0.5, spatial_axes=(0, 1)),\n",
    "        Resized(keys=[\"img\", \"mask\"], spatial_size=(256, 256)),\n",
    "    ]\n",
    ")\n",
    "\n",
    "val_transform = Compose(\n",
    "    [\n",
    "        LoadImaged(\n",
    "            keys=[\"img\", \"mask\"],\n",
    "            image_only=True,\n",
    "            ensure_channel_first=True,\n",
    "            reader=PILReader(\n",
    "                converter=lambda image: image.convert(\"L\"), reverse_indexing=False\n",
    "            ),\n",
    "            dtype=torch.float,\n",
    "        ),\n",
    "        ScaleIntensityd(keys=[\"img\", \"mask\"], minv=0, maxv=1),\n",
    "        Resized(keys=[\"img\", \"mask\"], spatial_size=(256, 256)),\n",
    "    ]\n",
    ")"
   ]
  },
  {
   "cell_type": "markdown",
   "metadata": {},
   "source": [
    "## Stworzenie datasetów\n"
   ]
  },
  {
   "cell_type": "code",
   "execution_count": null,
   "metadata": {},
   "outputs": [],
   "source": [
    "\n",
    "import monai\n",
    "\n",
    "train_dataset = monai.data.Dataset(data=train_files, transform=train_transform)\n",
    "val_dataset = monai.data.Dataset(data=val_files, transform=val_transform)\n",
    "test_dataset = monai.data.Dataset(data=test_files, transform=val_transform)"
   ]
  },
  {
   "cell_type": "code",
   "execution_count": null,
   "metadata": {},
   "outputs": [],
   "source": [
    "import gc\n",
    "\n",
    "gc.collect()\n",
    "with torch.no_grad():\n",
    "    torch.cuda.empty_cache()"
   ]
  },
  {
   "cell_type": "markdown",
   "metadata": {},
   "source": [
    "## Parametery\n"
   ]
  },
  {
   "cell_type": "code",
   "execution_count": null,
   "metadata": {},
   "outputs": [],
   "source": [
    "from monai.networks.nets import UNet\n",
    "from monai.losses import DiceLoss\n",
    "\n",
    "# from unet import UNet\n",
    "from resunet import ResUNet\n",
    "\n",
    "torch.backends.cudnn.benchmark = True\n",
    "\n",
    "device = torch.device(\"cuda:0\" if torch.cuda.is_available() else \"cpu\")\n",
    "lr = 0.001\n",
    "nepochs = 400\n",
    "bs = 2\n",
    "\n",
    "model = UNet(\n",
    "    spatial_dims=2,\n",
    "    in_channels=1,\n",
    "    out_channels=1,\n",
    "    channels=(16, 32, 64, 128, 256),\n",
    "    strides=(2, 2, 2, 2),\n",
    "    num_res_units=2,\n",
    ").to(device)\n",
    "\n",
    "\n",
    "optimizer = torch.optim.Adam(model.parameters(), lr=lr)\n",
    "criterion = DiceLoss(sigmoid=True)"
   ]
  },
  {
   "cell_type": "markdown",
   "metadata": {},
   "source": [
    "## Dataloadery\n"
   ]
  },
  {
   "cell_type": "code",
   "execution_count": null,
   "metadata": {},
   "outputs": [],
   "source": [
    "import monai\n",
    "\n",
    "train_dataloader = monai.data.DataLoader(\n",
    "    train_dataset, batch_size=bs, shuffle=True, pin_memory=True, num_workers=8\n",
    ")\n",
    "val_dataloader = monai.data.DataLoader(\n",
    "    val_dataset, batch_size=bs, shuffle=False, pin_memory=True, num_workers=8\n",
    ")\n",
    "test_dataloader = monai.data.DataLoader(\n",
    "    test_dataset, batch_size=bs, shuffle=False, pin_memory=True, num_workers=8\n",
    ")"
   ]
  },
  {
   "cell_type": "markdown",
   "metadata": {},
   "source": [
    "## Trening\n"
   ]
  },
  {
   "cell_type": "code",
   "execution_count": null,
   "metadata": {},
   "outputs": [],
   "source": [
    "import torch\n",
    "from tqdm import trange\n",
    "\n",
    "import matplotlib.pyplot as plt\n",
    "from pathlib import Path\n",
    "\n",
    "\n",
    "\n",
    "train_losses = []\n",
    "val_losses = []\n",
    "val_interval = 2\n",
    "save_interval = 10\n",
    "save_dir = \"model\"\n",
    "Path(save_dir).mkdir(exist_ok=True)\n",
    "\n",
    "for epoch in (pbar := trange(nepochs)):\n",
    "    model.train()\n",
    "    train_loss = 0.0\n",
    "    for i, batch_data in enumerate(train_dataloader):\n",
    "        img, mask = batch_data[\"img\"].to(device), batch_data[\"mask\"].to(device)\n",
    "        optimizer.zero_grad(set_to_none=True)\n",
    "        output = model(img)\n",
    "        loss = criterion(output, mask)\n",
    "        loss.backward()\n",
    "        optimizer.step()\n",
    "        curr_loss = loss.item()\n",
    "        train_loss += curr_loss\n",
    "        pbar.set_description(\n",
    "            f\"Epoch {epoch+1}/{nepochs}, iteration {i+1}/{len(train_dataloader)}, loss: {curr_loss}\"\n",
    "        )\n",
    "    train_losses.append(train_loss / len(train_dataloader))\n",
    "\n",
    "    if (epoch + 1) % val_interval == 0:\n",
    "        model.eval()\n",
    "        with torch.no_grad():\n",
    "            val_loss = 0.0\n",
    "            for i, batch_data in enumerate(val_dataloader):\n",
    "                img, mask = batch_data[\"img\"].to(device), batch_data[\"mask\"].to(device)\n",
    "                output = model(img)\n",
    "                loss = criterion(output, mask)\n",
    "                curr_loss = loss.item()\n",
    "                val_loss += curr_loss\n",
    "                pbar.set_description(\n",
    "                    \n",
    "                    f\"Epoch {epoch+1}/{nepochs}, iteration {i+1}/{len(val_dataloader)}, loss: {curr_loss}\"\n",
    "                )\n",
    "            val_loss_mean = val_loss / len(val_dataloader)\n",
    "            val_losses.append(val_loss_mean)\n",
    "\n",
    "    if (epoch + 1) % save_interval == 0:\n",
    "        torch.save(model.state_dict(), os.path.join(save_dir, f\"model_{epoch+1}.pth\"))"
   ]
  },
  {
   "cell_type": "markdown",
   "metadata": {},
   "source": [
    "## Wykresy strat\n"
   ]
  },
  {
   "cell_type": "code",
   "execution_count": null,
   "metadata": {},
   "outputs": [],
   "source": [
    "import matplotlib.pyplot as plt\n",
    "\n",
    "plt.plot(train_losses, label=\"train\")\n",
    "plt.title(\"Train loss\")\n",
    "plt.ylabel(\"Loss\")\n",
    "plt.xlabel(\"Epoch\")\n",
    "plt.savefig(\"train_loss.png\")\n",
    "plt.show()\n",
    "plt.plot(val_losses, label=\"val\", color=\"orange\")\n",
    "plt.title(\"Validation loss\")\n",
    "plt.ylabel(\"Loss\")\n",
    "plt.xlabel(\"Epoch\")\n",
    "plt.savefig(\"val_loss.png\")\n",
    "plt.show()"
   ]
  },
  {
   "cell_type": "code",
   "execution_count": null,
   "metadata": {},
   "outputs": [],
   "source": [
    "filename = \"./model-monai-400epoch-3000img-256x256v2.pth\"\n",
    "torch.save(model.state_dict(), filename)"
   ]
  },
  {
   "cell_type": "markdown",
   "metadata": {},
   "source": [
    "## Testowanie\n"
   ]
  },
  {
   "cell_type": "code",
   "execution_count": null,
   "metadata": {},
   "outputs": [],
   "source": [
    "import torch\n",
    "from monai.networks.nets import UNet\n",
    "\n",
    "device = torch.device(\"cuda:0\" if torch.cuda.is_available() else \"cpu\")\n",
    "\n",
    "# filename = \"./models/best-model/model-monai-400epoch-3000img-256x256.pth\"\n",
    "filename = \"./model-monai-400epoch-3000img-256x256v2.pth\"\n",
    "\n",
    "model = UNet(\n",
    "    spatial_dims=2,\n",
    "    in_channels=1,\n",
    "    out_channels=1,\n",
    "    channels=(16, 32, 64, 128, 256),\n",
    "    strides=(2, 2, 2, 2),\n",
    "    num_res_units=2,\n",
    ").to(device)\n",
    "\n",
    "model.load_state_dict(torch.load(filename))"
   ]
  },
  {
   "cell_type": "code",
   "execution_count": null,
   "metadata": {},
   "outputs": [],
   "source": [
    "from monai.metrics import compute_iou, compute_dice\n",
    "import numpy as np\n",
    "\n",
    "from util import recall, precision\n",
    "\n",
    "dices = []\n",
    "ious = []\n",
    "recalls = []\n",
    "precisions = []\n",
    "\n",
    "model.eval()\n",
    "with torch.no_grad():\n",
    "    for i, batch_data in enumerate(test_dataloader):\n",
    "        img, mask = batch_data[\"img\"].to(device), batch_data[\"mask\"].to(device)\n",
    "        output = torch.sigmoid(model(img))\n",
    "        torch.where(\n",
    "            output > 0.5,\n",
    "            torch.tensor([1.0], device=device),\n",
    "            torch.tensor([0.0], device=device),\n",
    "            out=output,\n",
    "        )\n",
    "        torch.where(\n",
    "            mask > 0.0,\n",
    "            torch.tensor([1.0], device=device),\n",
    "            torch.tensor([0.0], device=device),\n",
    "            out=mask,\n",
    "        )\n",
    "        dice_coeff = compute_dice(output, mask, ignore_empty=False).mean(dim=0)\n",
    "        iou = compute_iou(output, mask, ignore_empty=False).mean(dim=0)\n",
    "        r = recall(mask, output).mean()\n",
    "        p = precision(mask, output).mean()\n",
    "        dices.append(dice_coeff.item())\n",
    "        ious.append(iou.item())\n",
    "        recalls.append(r.item())\n",
    "        precisions.append(p.item())\n",
    "print(f\"Average iou: {(sum(ious) / len(ious)):.2f}\")\n",
    "print(f\"Average dice coefficient: {(sum(dices) / len(dices)):.2f}\")\n",
    "print(f\"Average recall: {(sum(recalls) / len(recalls)):.2f}\")\n",
    "print(f\"Average precision: {(sum(precisions) / len(precisions)):.2f}\")\n",
    "plt.scatter(np.arange(len(dices)), dices, s=20, c=\"red\")\n",
    "plt.xlabel(\"Test batch\")\n",
    "plt.ylabel(\"Mean dice coefficient\")\n",
    "plt.title(\"Mean dice coefficient for each test batch\")\n",
    "plt.savefig(\"dice_metric.png\")"
   ]
  }
 ],
 "metadata": {
  "kernelspec": {
   "display_name": "Python 3",
   "language": "python",
   "name": "python3"
  },
  "language_info": {
   "codemirror_mode": {
    "name": "ipython",
    "version": 3
   },
   "file_extension": ".py",
   "mimetype": "text/x-python",
   "name": "python",
   "nbconvert_exporter": "python",
   "pygments_lexer": "ipython3",
   "version": "3.12.10"
  }
 },
 "nbformat": 4,
 "nbformat_minor": 2
}
