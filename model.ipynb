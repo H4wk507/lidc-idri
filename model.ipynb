{
 "cells": [
  {
   "cell_type": "code",
   "execution_count": 48,
   "metadata": {},
   "outputs": [
    {
     "name": "stdout",
     "output_type": "stream",
     "text": [
      "Number of images: 3000\n"
     ]
    }
   ],
   "source": [
    "from monai.transforms import (\n",
    "    LoadImaged,\n",
    "    Compose,\n",
    "    RandRotate90d,\n",
    "    ScaleIntensityd,\n",
    "    Resized,\n",
    ")\n",
    "from monai.data import PILReader\n",
    "import numpy as np\n",
    "from glob import glob\n",
    "import os\n",
    "import matplotlib.pyplot as plt\n",
    "import torch\n",
    "import monai\n",
    "\n",
    "# more images is definitely better, but the training time is larger...\n",
    "imgs = sorted(glob(os.path.join(\"data\", \"imgs\", \"*.png\")))[:3000]\n",
    "masks = sorted(glob(os.path.join(\"data\", \"masks\", \"*.png\")))[:3000]\n",
    "\n",
    "n = len(imgs)\n",
    "TRAIN_RATIO = 0.7\n",
    "VAL_RATIO = 0.2\n",
    "\n",
    "print(f\"Number of images: {n}\")\n",
    "\n",
    "train_size = int(TRAIN_RATIO * n)\n",
    "val_size = int(VAL_RATIO * n)\n",
    "test_size = n - train_size - val_size\n",
    "train_size += n - (train_size + val_size + test_size)\n",
    "\n",
    "files = [{\"img\": img, \"mask\": mask} for img, mask in zip(imgs, masks)]\n",
    "\n",
    "train_files, val_files, test_files = torch.utils.data.random_split(\n",
    "    files,\n",
    "    [train_size, val_size, test_size],\n",
    ")\n",
    "\n",
    "train_transform = Compose(\n",
    "    [\n",
    "        LoadImaged(\n",
    "            keys=[\"img\", \"mask\"],\n",
    "            image_only=True,\n",
    "            ensure_channel_first=True,\n",
    "            reader=PILReader(\n",
    "                converter=lambda image: image.convert(\"L\"), reverse_indexing=False\n",
    "            ),\n",
    "            dtype=torch.float,\n",
    "        ),\n",
    "        ScaleIntensityd(keys=[\"img\", \"mask\"], minv=0, maxv=1),\n",
    "        RandRotate90d(keys=[\"img\", \"mask\"], prob=0.5, spatial_axes=(0, 1)),\n",
    "        Resized(keys=[\"img\", \"mask\"], spatial_size=(256, 256)),\n",
    "    ]\n",
    ")\n",
    "\n",
    "val_transform = Compose(\n",
    "    [\n",
    "        LoadImaged(\n",
    "            keys=[\"img\", \"mask\"],\n",
    "            image_only=True,\n",
    "            ensure_channel_first=True,\n",
    "            reader=PILReader(\n",
    "                converter=lambda image: image.convert(\"L\"), reverse_indexing=False\n",
    "            ),\n",
    "            dtype=torch.float,\n",
    "        ),\n",
    "        ScaleIntensityd(keys=[\"img\", \"mask\"], minv=0, maxv=1),\n",
    "        Resized(keys=[\"img\", \"mask\"], spatial_size=(256, 256)),\n",
    "    ]\n",
    ")\n",
    "\n",
    "train_dataset = monai.data.Dataset(data=train_files, transform=train_transform)\n",
    "val_dataset = monai.data.Dataset(data=val_files, transform=val_transform)\n",
    "test_dataset = monai.data.Dataset(data=test_files, transform=val_transform)"
   ]
  },
  {
   "cell_type": "code",
   "execution_count": 49,
   "metadata": {},
   "outputs": [
    {
     "name": "stdout",
     "output_type": "stream",
     "text": [
      "cuda:0\n"
     ]
    },
    {
     "name": "stderr",
     "output_type": "stream",
     "text": [
      "Epoch 5/400, iteration 1/66, loss: 0.9985268115997314:   1%|▏         | 5/400 [00:19<25:37,  3.89s/it] \n"
     ]
    },
    {
     "ename": "KeyboardInterrupt",
     "evalue": "",
     "output_type": "error",
     "traceback": [
      "\u001b[0;31m---------------------------------------------------------------------------\u001b[0m",
      "\u001b[0;31mKeyboardInterrupt\u001b[0m                         Traceback (most recent call last)",
      "Cell \u001b[0;32mIn[49], line 60\u001b[0m\n\u001b[1;32m     58\u001b[0m model\u001b[38;5;241m.\u001b[39mtrain()\n\u001b[1;32m     59\u001b[0m train_loss \u001b[38;5;241m=\u001b[39m \u001b[38;5;241m0.0\u001b[39m\n\u001b[0;32m---> 60\u001b[0m \u001b[38;5;28;01mfor\u001b[39;00m i, batch_data \u001b[38;5;129;01min\u001b[39;00m \u001b[38;5;28menumerate\u001b[39m(train_dataloader):\n\u001b[1;32m     61\u001b[0m     img, mask \u001b[38;5;241m=\u001b[39m batch_data[\u001b[38;5;124m\"\u001b[39m\u001b[38;5;124mimg\u001b[39m\u001b[38;5;124m\"\u001b[39m]\u001b[38;5;241m.\u001b[39mto(device), batch_data[\u001b[38;5;124m\"\u001b[39m\u001b[38;5;124mmask\u001b[39m\u001b[38;5;124m\"\u001b[39m]\u001b[38;5;241m.\u001b[39mto(device)\n\u001b[1;32m     62\u001b[0m     optimizer\u001b[38;5;241m.\u001b[39mzero_grad(set_to_none\u001b[38;5;241m=\u001b[39m\u001b[38;5;28;01mTrue\u001b[39;00m)\n",
      "File \u001b[0;32m~/ai/projekt/venv/lib/python3.9/site-packages/torch/utils/data/dataloader.py:631\u001b[0m, in \u001b[0;36m_BaseDataLoaderIter.__next__\u001b[0;34m(self)\u001b[0m\n\u001b[1;32m    628\u001b[0m \u001b[38;5;28;01mif\u001b[39;00m \u001b[38;5;28mself\u001b[39m\u001b[38;5;241m.\u001b[39m_sampler_iter \u001b[38;5;129;01mis\u001b[39;00m \u001b[38;5;28;01mNone\u001b[39;00m:\n\u001b[1;32m    629\u001b[0m     \u001b[38;5;66;03m# TODO(https://github.com/pytorch/pytorch/issues/76750)\u001b[39;00m\n\u001b[1;32m    630\u001b[0m     \u001b[38;5;28mself\u001b[39m\u001b[38;5;241m.\u001b[39m_reset()  \u001b[38;5;66;03m# type: ignore[call-arg]\u001b[39;00m\n\u001b[0;32m--> 631\u001b[0m data \u001b[38;5;241m=\u001b[39m \u001b[38;5;28;43mself\u001b[39;49m\u001b[38;5;241;43m.\u001b[39;49m\u001b[43m_next_data\u001b[49m\u001b[43m(\u001b[49m\u001b[43m)\u001b[49m\n\u001b[1;32m    632\u001b[0m \u001b[38;5;28mself\u001b[39m\u001b[38;5;241m.\u001b[39m_num_yielded \u001b[38;5;241m+\u001b[39m\u001b[38;5;241m=\u001b[39m \u001b[38;5;241m1\u001b[39m\n\u001b[1;32m    633\u001b[0m \u001b[38;5;28;01mif\u001b[39;00m \u001b[38;5;28mself\u001b[39m\u001b[38;5;241m.\u001b[39m_dataset_kind \u001b[38;5;241m==\u001b[39m _DatasetKind\u001b[38;5;241m.\u001b[39mIterable \u001b[38;5;129;01mand\u001b[39;00m \\\n\u001b[1;32m    634\u001b[0m         \u001b[38;5;28mself\u001b[39m\u001b[38;5;241m.\u001b[39m_IterableDataset_len_called \u001b[38;5;129;01mis\u001b[39;00m \u001b[38;5;129;01mnot\u001b[39;00m \u001b[38;5;28;01mNone\u001b[39;00m \u001b[38;5;129;01mand\u001b[39;00m \\\n\u001b[1;32m    635\u001b[0m         \u001b[38;5;28mself\u001b[39m\u001b[38;5;241m.\u001b[39m_num_yielded \u001b[38;5;241m>\u001b[39m \u001b[38;5;28mself\u001b[39m\u001b[38;5;241m.\u001b[39m_IterableDataset_len_called:\n",
      "File \u001b[0;32m~/ai/projekt/venv/lib/python3.9/site-packages/torch/utils/data/dataloader.py:1329\u001b[0m, in \u001b[0;36m_MultiProcessingDataLoaderIter._next_data\u001b[0;34m(self)\u001b[0m\n\u001b[1;32m   1326\u001b[0m     \u001b[38;5;28;01mreturn\u001b[39;00m \u001b[38;5;28mself\u001b[39m\u001b[38;5;241m.\u001b[39m_process_data(data)\n\u001b[1;32m   1328\u001b[0m \u001b[38;5;28;01massert\u001b[39;00m \u001b[38;5;129;01mnot\u001b[39;00m \u001b[38;5;28mself\u001b[39m\u001b[38;5;241m.\u001b[39m_shutdown \u001b[38;5;129;01mand\u001b[39;00m \u001b[38;5;28mself\u001b[39m\u001b[38;5;241m.\u001b[39m_tasks_outstanding \u001b[38;5;241m>\u001b[39m \u001b[38;5;241m0\u001b[39m\n\u001b[0;32m-> 1329\u001b[0m idx, data \u001b[38;5;241m=\u001b[39m \u001b[38;5;28;43mself\u001b[39;49m\u001b[38;5;241;43m.\u001b[39;49m\u001b[43m_get_data\u001b[49m\u001b[43m(\u001b[49m\u001b[43m)\u001b[49m\n\u001b[1;32m   1330\u001b[0m \u001b[38;5;28mself\u001b[39m\u001b[38;5;241m.\u001b[39m_tasks_outstanding \u001b[38;5;241m-\u001b[39m\u001b[38;5;241m=\u001b[39m \u001b[38;5;241m1\u001b[39m\n\u001b[1;32m   1331\u001b[0m \u001b[38;5;28;01mif\u001b[39;00m \u001b[38;5;28mself\u001b[39m\u001b[38;5;241m.\u001b[39m_dataset_kind \u001b[38;5;241m==\u001b[39m _DatasetKind\u001b[38;5;241m.\u001b[39mIterable:\n\u001b[1;32m   1332\u001b[0m     \u001b[38;5;66;03m# Check for _IterableDatasetStopIteration\u001b[39;00m\n",
      "File \u001b[0;32m~/ai/projekt/venv/lib/python3.9/site-packages/torch/utils/data/dataloader.py:1285\u001b[0m, in \u001b[0;36m_MultiProcessingDataLoaderIter._get_data\u001b[0;34m(self)\u001b[0m\n\u001b[1;32m   1283\u001b[0m \u001b[38;5;28;01melif\u001b[39;00m \u001b[38;5;28mself\u001b[39m\u001b[38;5;241m.\u001b[39m_pin_memory:\n\u001b[1;32m   1284\u001b[0m     \u001b[38;5;28;01mwhile\u001b[39;00m \u001b[38;5;28mself\u001b[39m\u001b[38;5;241m.\u001b[39m_pin_memory_thread\u001b[38;5;241m.\u001b[39mis_alive():\n\u001b[0;32m-> 1285\u001b[0m         success, data \u001b[38;5;241m=\u001b[39m \u001b[38;5;28;43mself\u001b[39;49m\u001b[38;5;241;43m.\u001b[39;49m\u001b[43m_try_get_data\u001b[49m\u001b[43m(\u001b[49m\u001b[43m)\u001b[49m\n\u001b[1;32m   1286\u001b[0m         \u001b[38;5;28;01mif\u001b[39;00m success:\n\u001b[1;32m   1287\u001b[0m             \u001b[38;5;28;01mreturn\u001b[39;00m data\n",
      "File \u001b[0;32m~/ai/projekt/venv/lib/python3.9/site-packages/torch/utils/data/dataloader.py:1133\u001b[0m, in \u001b[0;36m_MultiProcessingDataLoaderIter._try_get_data\u001b[0;34m(self, timeout)\u001b[0m\n\u001b[1;32m   1120\u001b[0m \u001b[38;5;28;01mdef\u001b[39;00m \u001b[38;5;21m_try_get_data\u001b[39m(\u001b[38;5;28mself\u001b[39m, timeout\u001b[38;5;241m=\u001b[39m_utils\u001b[38;5;241m.\u001b[39mMP_STATUS_CHECK_INTERVAL):\n\u001b[1;32m   1121\u001b[0m     \u001b[38;5;66;03m# Tries to fetch data from `self._data_queue` once for a given timeout.\u001b[39;00m\n\u001b[1;32m   1122\u001b[0m     \u001b[38;5;66;03m# This can also be used as inner loop of fetching without timeout, with\u001b[39;00m\n\u001b[0;32m   (...)\u001b[0m\n\u001b[1;32m   1130\u001b[0m     \u001b[38;5;66;03m# Returns a 2-tuple:\u001b[39;00m\n\u001b[1;32m   1131\u001b[0m     \u001b[38;5;66;03m#   (bool: whether successfully get data, any: data if successful else None)\u001b[39;00m\n\u001b[1;32m   1132\u001b[0m     \u001b[38;5;28;01mtry\u001b[39;00m:\n\u001b[0;32m-> 1133\u001b[0m         data \u001b[38;5;241m=\u001b[39m \u001b[38;5;28;43mself\u001b[39;49m\u001b[38;5;241;43m.\u001b[39;49m\u001b[43m_data_queue\u001b[49m\u001b[38;5;241;43m.\u001b[39;49m\u001b[43mget\u001b[49m\u001b[43m(\u001b[49m\u001b[43mtimeout\u001b[49m\u001b[38;5;241;43m=\u001b[39;49m\u001b[43mtimeout\u001b[49m\u001b[43m)\u001b[49m\n\u001b[1;32m   1134\u001b[0m         \u001b[38;5;28;01mreturn\u001b[39;00m (\u001b[38;5;28;01mTrue\u001b[39;00m, data)\n\u001b[1;32m   1135\u001b[0m     \u001b[38;5;28;01mexcept\u001b[39;00m \u001b[38;5;167;01mException\u001b[39;00m \u001b[38;5;28;01mas\u001b[39;00m e:\n\u001b[1;32m   1136\u001b[0m         \u001b[38;5;66;03m# At timeout and error, we manually check whether any worker has\u001b[39;00m\n\u001b[1;32m   1137\u001b[0m         \u001b[38;5;66;03m# failed. Note that this is the only mechanism for Windows to detect\u001b[39;00m\n\u001b[1;32m   1138\u001b[0m         \u001b[38;5;66;03m# worker failures.\u001b[39;00m\n",
      "File \u001b[0;32m/usr/lib/python3.9/queue.py:180\u001b[0m, in \u001b[0;36mQueue.get\u001b[0;34m(self, block, timeout)\u001b[0m\n\u001b[1;32m    178\u001b[0m         \u001b[38;5;28;01mif\u001b[39;00m remaining \u001b[38;5;241m<\u001b[39m\u001b[38;5;241m=\u001b[39m \u001b[38;5;241m0.0\u001b[39m:\n\u001b[1;32m    179\u001b[0m             \u001b[38;5;28;01mraise\u001b[39;00m Empty\n\u001b[0;32m--> 180\u001b[0m         \u001b[38;5;28;43mself\u001b[39;49m\u001b[38;5;241;43m.\u001b[39;49m\u001b[43mnot_empty\u001b[49m\u001b[38;5;241;43m.\u001b[39;49m\u001b[43mwait\u001b[49m\u001b[43m(\u001b[49m\u001b[43mremaining\u001b[49m\u001b[43m)\u001b[49m\n\u001b[1;32m    181\u001b[0m item \u001b[38;5;241m=\u001b[39m \u001b[38;5;28mself\u001b[39m\u001b[38;5;241m.\u001b[39m_get()\n\u001b[1;32m    182\u001b[0m \u001b[38;5;28mself\u001b[39m\u001b[38;5;241m.\u001b[39mnot_full\u001b[38;5;241m.\u001b[39mnotify()\n",
      "File \u001b[0;32m/usr/lib/python3.9/threading.py:316\u001b[0m, in \u001b[0;36mCondition.wait\u001b[0;34m(self, timeout)\u001b[0m\n\u001b[1;32m    314\u001b[0m \u001b[38;5;28;01melse\u001b[39;00m:\n\u001b[1;32m    315\u001b[0m     \u001b[38;5;28;01mif\u001b[39;00m timeout \u001b[38;5;241m>\u001b[39m \u001b[38;5;241m0\u001b[39m:\n\u001b[0;32m--> 316\u001b[0m         gotit \u001b[38;5;241m=\u001b[39m \u001b[43mwaiter\u001b[49m\u001b[38;5;241;43m.\u001b[39;49m\u001b[43macquire\u001b[49m\u001b[43m(\u001b[49m\u001b[38;5;28;43;01mTrue\u001b[39;49;00m\u001b[43m,\u001b[49m\u001b[43m \u001b[49m\u001b[43mtimeout\u001b[49m\u001b[43m)\u001b[49m\n\u001b[1;32m    317\u001b[0m     \u001b[38;5;28;01melse\u001b[39;00m:\n\u001b[1;32m    318\u001b[0m         gotit \u001b[38;5;241m=\u001b[39m waiter\u001b[38;5;241m.\u001b[39macquire(\u001b[38;5;28;01mFalse\u001b[39;00m)\n",
      "\u001b[0;31mKeyboardInterrupt\u001b[0m: "
     ]
    },
    {
     "data": {
      "text/plain": [
       "<Figure size 640x480 with 0 Axes>"
      ]
     },
     "metadata": {},
     "output_type": "display_data"
    }
   ],
   "source": [
    "import torch\n",
    "import gc\n",
    "from tqdm import trange\n",
    "\n",
    "from monai.networks.nets import UNet\n",
    "from monai.losses import DiceLoss\n",
    "import matplotlib.pyplot as plt\n",
    "import monai\n",
    "from pathlib import Path\n",
    "\n",
    "# from resunet2 import UNet\n",
    "from resunet import ResUNet\n",
    "\n",
    "gc.collect()\n",
    "with torch.no_grad():\n",
    "    torch.cuda.empty_cache()\n",
    "\n",
    "torch.backends.cudnn.benchmark = True\n",
    "\n",
    "plt.set_cmap(\"gray\")\n",
    "\n",
    "device = torch.device(\"cuda:0\" if torch.cuda.is_available() else \"cpu\")\n",
    "print(device)\n",
    "lr = 0.001\n",
    "nepochs = 400\n",
    "bs = 32\n",
    "\n",
    "model = UNet(\n",
    "    spatial_dims=2,\n",
    "    in_channels=1,\n",
    "    out_channels=1,\n",
    "    channels=(16, 32, 64, 128, 256),\n",
    "    strides=(2, 2, 2, 2),\n",
    "    num_res_units=2,\n",
    ").to(device)\n",
    "\n",
    "optimizer = torch.optim.Adam(model.parameters(), lr=lr)\n",
    "criterion = DiceLoss(sigmoid=True)\n",
    "\n",
    "train_dataloader = monai.data.DataLoader(\n",
    "    train_dataset, batch_size=bs, shuffle=True, pin_memory=True, num_workers=8\n",
    ")\n",
    "val_dataloader = monai.data.DataLoader(\n",
    "    val_dataset, batch_size=bs, shuffle=False, pin_memory=True, num_workers=8\n",
    ")\n",
    "test_dataloader = monai.data.DataLoader(\n",
    "    test_dataset, batch_size=bs, shuffle=False, pin_memory=True, num_workers=8\n",
    ")\n",
    "\n",
    "train_losses = []\n",
    "val_losses = []\n",
    "val_interval = 2\n",
    "save_interval = 10\n",
    "save_dir = \"model\"\n",
    "Path(save_dir).mkdir(exist_ok=True)\n",
    "\n",
    "for epoch in (pbar := trange(nepochs)):\n",
    "    model.train()\n",
    "    train_loss = 0.0\n",
    "    for i, batch_data in enumerate(train_dataloader):\n",
    "        img, mask = batch_data[\"img\"].to(device), batch_data[\"mask\"].to(device)\n",
    "        optimizer.zero_grad(set_to_none=True)\n",
    "        output = model(img)\n",
    "        loss = criterion(output, mask)\n",
    "        loss.backward()\n",
    "        optimizer.step()\n",
    "        curr_loss = loss.item()\n",
    "        train_loss += curr_loss\n",
    "        pbar.set_description(\n",
    "            f\"Epoch {epoch+1}/{nepochs}, iteration {i+1}/{len(train_dataloader)}, loss: {curr_loss}\"\n",
    "        )\n",
    "    train_losses.append(train_loss / len(train_dataloader))\n",
    "\n",
    "    if (epoch + 1) % val_interval == 0:\n",
    "        model.eval()\n",
    "        with torch.no_grad():\n",
    "            val_loss = 0.0\n",
    "            for i, batch_data in enumerate(val_dataloader):\n",
    "                img, mask = batch_data[\"img\"].to(device), batch_data[\"mask\"].to(device)\n",
    "                output = model(img)\n",
    "                loss = criterion(output, mask)\n",
    "                curr_loss = loss.item()\n",
    "                val_loss += curr_loss\n",
    "                pbar.set_description(\n",
    "                    \n",
    "                    f\"Epoch {epoch+1}/{nepochs}, iteration {i+1}/{len(val_dataloader)}, loss: {curr_loss}\"\n",
    "                )\n",
    "            val_loss_mean = val_loss / len(val_dataloader)\n",
    "            val_losses.append(val_loss_mean)\n",
    "\n",
    "    if (epoch + 1) % save_interval == 0:\n",
    "        torch.save(model.state_dict(), os.path.join(save_dir, f\"model_{epoch+1}.pth\"))"
   ]
  },
  {
   "cell_type": "code",
   "execution_count": null,
   "metadata": {},
   "outputs": [],
   "source": [
    "import matplotlib.pyplot as plt\n",
    "\n",
    "plt.plot(train_losses, label=\"train\")\n",
    "plt.title(\"Train loss\")\n",
    "plt.ylabel(\"Loss\")\n",
    "plt.xlabel(\"Epoch\")\n",
    "plt.savefig(\"train_loss.png\")\n",
    "plt.show()\n",
    "plt.plot(val_losses, label=\"val\", color=\"orange\")\n",
    "plt.title(\"Validation loss\")\n",
    "plt.ylabel(\"Loss\")\n",
    "plt.xlabel(\"Epoch\")\n",
    "plt.savefig(\"val_loss.png\")\n",
    "plt.show()"
   ]
  },
  {
   "cell_type": "code",
   "execution_count": null,
   "metadata": {},
   "outputs": [],
   "source": [
    "filename = \"./model-monai-400epoch-3000img-256x256v2.pth\"\n",
    "torch.save(model.state_dict(), filename)"
   ]
  },
  {
   "cell_type": "code",
   "execution_count": 3,
   "metadata": {},
   "outputs": [
    {
     "data": {
      "text/plain": [
       "<All keys matched successfully>"
      ]
     },
     "execution_count": 3,
     "metadata": {},
     "output_type": "execute_result"
    }
   ],
   "source": [
    "import torch\n",
    "from monai.networks.nets import UNet\n",
    "\n",
    "device = torch.device(\"cuda:0\" if torch.cuda.is_available() else \"cpu\")\n",
    "\n",
    "# filename = \"./models/best-model/model-monai-400epoch-3000img-256x256.pth\"\n",
    "filename = \"./model-monai-400epoch-3000img-256x256v2.pth\"\n",
    "\n",
    "model = UNet(\n",
    "    spatial_dims=2,\n",
    "    in_channels=1,\n",
    "    out_channels=1,\n",
    "    channels=(16, 32, 64, 128, 256),\n",
    "    strides=(2, 2, 2, 2),\n",
    "    num_res_units=2,\n",
    ").to(device)\n",
    "\n",
    "model.load_state_dict(torch.load(filename))"
   ]
  },
  {
   "cell_type": "code",
   "execution_count": 10,
   "metadata": {},
   "outputs": [
    {
     "name": "stdout",
     "output_type": "stream",
     "text": [
      "Average iou: 0.65\n",
      "Average dice coefficient: 0.75\n",
      "Average recall: 0.69\n",
      "Average precision: 0.85\n"
     ]
    },
    {
     "data": {
      "image/png": "[encoded data removed]",
      "text/plain": [
       "<Figure size 640x480 with 1 Axes>"
      ]
     },
     "metadata": {},
     "output_type": "display_data"
    }
   ],
   "source": [
    "from monai.metrics import compute_iou, compute_dice\n",
    "\n",
    "from util import recall, precision\n",
    "\n",
    "dices = []\n",
    "ious = []\n",
    "recalls = []\n",
    "precisions = []\n",
    "\n",
    "model.eval()\n",
    "with torch.no_grad():\n",
    "    for i, batch_data in enumerate(test_dataloader):\n",
    "        img, mask = batch_data[\"img\"].to(device), batch_data[\"mask\"].to(device)\n",
    "        output = torch.sigmoid(model(img))\n",
    "        torch.where(\n",
    "            output > 0.5,\n",
    "            torch.tensor([1.0], device=device),\n",
    "            torch.tensor([0.0], device=device),\n",
    "            out=output,\n",
    "        )\n",
    "        torch.where(\n",
    "            mask > 0.0,\n",
    "            torch.tensor([1.0], device=device),\n",
    "            torch.tensor([0.0], device=device),\n",
    "            out=mask,\n",
    "        )\n",
    "        dice_coeff = compute_dice(output, mask, ignore_empty=False).mean(dim=0)\n",
    "        iou = compute_iou(output, mask, ignore_empty=False).mean(dim=0)\n",
    "        r = recall(mask, output).mean()\n",
    "        p = precision(mask, output).mean()\n",
    "        dices.append(dice_coeff.item())\n",
    "        ious.append(iou.item())\n",
    "        recalls.append(r.item())\n",
    "        precisions.append(p.item())\n",
    "print(f\"Average iou: {(sum(ious) / len(ious)):.2f}\")\n",
    "print(f\"Average dice coefficient: {(sum(dices) / len(dices)):.2f}\")\n",
    "print(f\"Average recall: {(sum(recalls) / len(recalls)):.2f}\")\n",
    "print(f\"Average precision: {(sum(precisions) / len(precisions)):.2f}\")\n",
    "plt.scatter(np.arange(len(dices)), dices, s=20, c=\"red\")\n",
    "plt.xlabel(\"Test batch\")\n",
    "plt.ylabel(\"Mean dice coefficient\")\n",
    "plt.title(\"Mean dice coefficient for each test batch\")\n",
    "plt.savefig(\"dice_metric.png\")"
   ]
  }
 ],
 "metadata": {
  "kernelspec": {
   "display_name": "venv",
   "language": "python",
   "name": "python3"
  },
  "language_info": {
   "codemirror_mode": {
    "name": "ipython",
    "version": 3
   },
   "file_extension": ".py",
   "mimetype": "text/x-python",
   "name": "python",
   "nbconvert_exporter": "python",
   "pygments_lexer": "ipython3",
   "version": "3.9.19"
  }
 },
 "nbformat": 4,
 "nbformat_minor": 2
}
